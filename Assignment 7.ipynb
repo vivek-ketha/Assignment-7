{
 "cells": [
  {
   "cell_type": "code",
   "execution_count": null,
   "id": "0b35b5b9",
   "metadata": {},
   "outputs": [],
   "source": [
    "1.The re.compile() function returns Regex objects.\n",
    "\n",
    "2.Raw strings are used so that backslashes do not have to be escaped.\n",
    "\n",
    "3.The search() method returns Match objects.\n",
    "\n",
    "4.The group() method returns strings of the matched text.\n",
    "\n",
    "5.Group 0 is the entire match, group 1 covers the first set of parentheses, and group 2 covers the second set of parentheses.\n",
    "\n",
    "6.Periods and parentheses can be escaped with a backslash: \\., \\(, and \\).\n",
    "\n",
    "7.If the regex has no groups, a list of strings is returned. If the regex has groups, a list of tuples of strings is returned.\n",
    "\n",
    "8.The | character signifies matching “either, or” between two groups.\n",
    "\n",
    "9.The ? character can either mean “match zero or one of the preceding group” or be used to signify nongreedy matching.\n",
    "\n",
    "10.The + matches one or more. The * matches zero or more.\n",
    "\n",
    "11.The {3} matches exactly three instances of the preceding group. The {3,5} matches between three and five instances.\n",
    "\n",
    "12.The \\d, \\w, and \\s shorthand character classes match a single digit, word, or space character, respectively.\n",
    "\n",
    "13.The \\D, \\W, and \\S shorthand character classes match a single character that is not a digit, word, or space character, respectively.\n",
    "\n",
    "14.Passing re.I or re.IGNORECASE as the second argument to re.compile() will make the matching case insensitive.\n",
    "\n",
    "15.The . character normally matches any character except the newline character. If re.DOTALL is passed as the second argument to re.compile(), then the dot will also match newline characters.\n",
    "\n",
    "16.The .* performs a greedy match, and the .*? performs a nongreedy match.\n",
    "\n",
    "17.Either [0-9a-z] or [a-z0-9]\n",
    "\n",
    "18.'X drummers, X pipers, five rings, X hens'\n",
    "\n",
    "19.The re.VERBOSE argument allows you to add whitespace and comments to the string passed to re.compile().\n",
    "\n",
    "20.re.compile(r'^\\d{1,3}(,\\d{3})*$') will create this regex, but other regex strings can produce a similar regular expression.\n",
    "\n",
    "21.re.compile(r'[A-Z][a-z]*\\sNakamoto')\n",
    "\n",
    "22.re.compile(r'(Alice|Bob|Carol)\\s(eats|pets|throws)\\s(apples|cats|baseballs)\\.', re.IGNORECASE)"
   ]
  }
 ],
 "metadata": {
  "kernelspec": {
   "display_name": "Python 3",
   "language": "python",
   "name": "python3"
  },
  "language_info": {
   "codemirror_mode": {
    "name": "ipython",
    "version": 3
   },
   "file_extension": ".py",
   "mimetype": "text/x-python",
   "name": "python",
   "nbconvert_exporter": "python",
   "pygments_lexer": "ipython3",
   "version": "3.8.8"
  }
 },
 "nbformat": 4,
 "nbformat_minor": 5
}
